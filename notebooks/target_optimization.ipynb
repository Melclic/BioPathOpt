{
 "cells": [
  {
   "cell_type": "code",
   "execution_count": null,
   "id": "02c477ff-4c2a-4de7-b8fd-75779402526c",
   "metadata": {},
   "outputs": [],
   "source": [
    "import biopathopt"
   ]
  },
  {
   "cell_type": "code",
   "execution_count": null,
   "id": "73ffe3b2-dbbd-4a97-8d75-95d4a70dfd7a",
   "metadata": {},
   "outputs": [],
   "source": [
    "# Here we use the EC model to optimize\n",
    "ecm = biopathopt.EnzymeConstrainedModel(\n",
    "    path_to_model='models/iML1515R_parsed_enriched_optimized.json.gzip', \n",
    "    use_progressbar=True,\n",
    ")\n",
    "ec_model = ecm.return_ec_model(\n",
    "    substrate_exchange_reaction_id='EX_glc__D_e',\n",
    ")"
   ]
  },
  {
   "cell_type": "markdown",
   "id": "224ac317-611e-4c6f-8224-dc2647125a88",
   "metadata": {},
   "source": [
    "# Optimization\n",
    "\n",
    "Here we investigate what are the ways you can leverage the enzyme contrained model to optimize for the production of a target molecule.\n",
    "\n",
    "Note that you can use any cobrapy model, may be an EC model as is shown here or any other"
   ]
  },
  {
   "cell_type": "markdown",
   "id": "7f5dd0c3-d611-4d32-8360-d49900e3d30a",
   "metadata": {},
   "source": [
    "## FSEOF "
   ]
  },
  {
   "cell_type": "code",
   "execution_count": null,
   "id": "cb8ad569-28c2-4ce0-aa51-27ac176c02ef",
   "metadata": {},
   "outputs": [],
   "source": [
    "biomass_reaction_id='BIOMASS_Ec_iML1515_core_75p37M'\n",
    "obj_reaction_id='EX_trp__L_e'\n",
    "obj_metabolite_id = 'trp__L_e'"
   ]
  },
  {
   "cell_type": "code",
   "execution_count": null,
   "id": "64d5b374-4616-4ef0-8b68-38d232b3df62",
   "metadata": {},
   "outputs": [],
   "source": [
    "fvseof = biopathopt.FVSEOF(\n",
    "    model=ec_model, \n",
    "    biomass_reaction_id=biomass_reaction_id, \n",
    "    target_metabolite_id=obj_metabolite_id)"
   ]
  },
  {
   "cell_type": "code",
   "execution_count": null,
   "id": "bf893479-b522-44fd-9f8b-cde1a3d84429",
   "metadata": {},
   "outputs": [],
   "source": [
    "df = fvseof.run(n_steps = 10, fva_n_processes = 5, check_essentiality=False, use_progressbar=True)"
   ]
  },
  {
   "cell_type": "code",
   "execution_count": null,
   "id": "458fed47-a1ba-48c1-9388-d14024783fa4",
   "metadata": {},
   "outputs": [],
   "source": [
    "df"
   ]
  }
 ],
 "metadata": {
  "kernelspec": {
   "display_name": "Python 3 (ipykernel)",
   "language": "python",
   "name": "python3"
  },
  "language_info": {
   "codemirror_mode": {
    "name": "ipython",
    "version": 3
   },
   "file_extension": ".py",
   "mimetype": "text/x-python",
   "name": "python",
   "nbconvert_exporter": "python",
   "pygments_lexer": "ipython3",
   "version": "3.10.18"
  }
 },
 "nbformat": 4,
 "nbformat_minor": 5
}
