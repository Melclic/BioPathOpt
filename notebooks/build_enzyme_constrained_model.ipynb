{
 "cells": [
  {
   "cell_type": "code",
   "execution_count": null,
   "id": "02c477ff-4c2a-4de7-b8fd-75779402526c",
   "metadata": {},
   "outputs": [],
   "source": [
    "import biopathopt\n",
    "import cobra\n",
    "import pandas as pd\n",
    "import plotly.express as px"
   ]
  },
  {
   "cell_type": "markdown",
   "id": "92d6384f-20d3-4a53-a248-fca04ae66c3c",
   "metadata": {},
   "source": [
    "# Enzyme Contrained Model\n",
    "\n",
    "In this notebook, we investigate how to generate an enzyme constrained model"
   ]
  },
  {
   "cell_type": "code",
   "execution_count": null,
   "id": "8a18b937-0506-490e-935a-8854added5e2",
   "metadata": {},
   "outputs": [],
   "source": [
    "ecm = biopathopt.EnzymeConstrainedModel(\n",
    "    path_to_model='models/iML1515R.xml', \n",
    "    taxonomy_id=83333,\n",
    "    use_progressbar=True,\n",
    ")"
   ]
  },
  {
   "cell_type": "code",
   "execution_count": null,
   "id": "97058c1e-8b9a-4a18-bd39-c1431d61452b",
   "metadata": {},
   "outputs": [],
   "source": [
    "ecm.enzyme_enrich_model(use_progressbar=True)"
   ]
  },
  {
   "cell_type": "code",
   "execution_count": null,
   "id": "c898e243-2839-405c-a990-1e2ddc833850",
   "metadata": {
    "scrolled": true
   },
   "outputs": [],
   "source": [
    "updated_reacs = ecm.optimize_ec_model(\n",
    "    target_growth_rate_h=0.66,\n",
    "    model_objective='BIOMASS_Ec_iML1515_core_75p37M',\n",
    "    carbon_exchange_reaction='EX_glc__D_e',\n",
    "    use_progressbar=True,\n",
    "    maximum_optimization_rounds=50,\n",
    ")"
   ]
  },
  {
   "cell_type": "code",
   "execution_count": null,
   "id": "266678ad-7730-48f1-a0a6-9ed31c6bef81",
   "metadata": {},
   "outputs": [],
   "source": [
    "ecm.save_model(file_path='models/iML1515R_parsed_enriched_optimized.json.gzip')"
   ]
  },
  {
   "cell_type": "code",
   "execution_count": null,
   "id": "4a0b4ffe-f3dc-4a1e-a01b-bf80fdec0d43",
   "metadata": {},
   "outputs": [],
   "source": [
    "ec_model = ecm.return_ec_model(\n",
    "    substrate_exchange_reaction_id='EX_glc__D_e',\n",
    ")"
   ]
  },
  {
   "cell_type": "markdown",
   "id": "dc94c612-d15f-42b2-8ee3-b526394e77e6",
   "metadata": {},
   "source": [
    "## kcat and enzyme mass distributions"
   ]
  },
  {
   "cell_type": "code",
   "execution_count": null,
   "id": "70041144-a715-463c-8547-c5bc1ab47744",
   "metadata": {},
   "outputs": [],
   "source": [
    "ecm = biopathopt.EnzymeConstrainedModel(\n",
    "    path_to_model='models/iML1515R_parsed_enriched_optimized.json.gzip', \n",
    ")"
   ]
  },
  {
   "cell_type": "code",
   "execution_count": null,
   "id": "2dd4e9c3-097f-4c06-839c-01fdb33dd9bc",
   "metadata": {},
   "outputs": [],
   "source": [
    "ec_model = ecm.return_ec_model(\n",
    "    substrate_exchange_reaction_id='EX_glc__D_e',\n",
    ")"
   ]
  },
  {
   "cell_type": "code",
   "execution_count": null,
   "id": "671a4aaf-632c-43a2-98d9-89f144b16c13",
   "metadata": {},
   "outputs": [],
   "source": [
    "import plotly.io as pio\n",
    "pio.renderers.default = 'notebook'"
   ]
  },
  {
   "cell_type": "code",
   "execution_count": null,
   "id": "b3994b59-1e72-47d1-9354-74583d57647d",
   "metadata": {},
   "outputs": [],
   "source": [
    "kcat = [r.annotation.get('kcat') for r in ec_model.reactions]\n",
    "fig = biopathopt.plots.cdf(kcat, x_label='kcat(1/s)')\n",
    "pio.show(fig)"
   ]
  },
  {
   "cell_type": "code",
   "execution_count": null,
   "id": "468defef-01ea-4368-bdf9-af943950ec76",
   "metadata": {},
   "outputs": [],
   "source": [
    "mw = [r.annotation.get('mw') for r in ec_model.reactions]\n",
    "fig = biopathopt.plots.cdf(mw, x_label='mass(kDa)')\n",
    "pio.show(fig)"
   ]
  },
  {
   "cell_type": "markdown",
   "id": "22889c83-1c79-4a7f-a423-c27c9e64947b",
   "metadata": {},
   "source": [
    "## Compare Experimental to Measured "
   ]
  },
  {
   "cell_type": "code",
   "execution_count": null,
   "id": "62d17180-124c-4bc7-8fd4-79ea9e834326",
   "metadata": {},
   "outputs": [],
   "source": [
    "growth_exp = pd.read_csv('data/growth_exp.csv', index_col=0)\n",
    "substrates = list(growth_exp.index)\n",
    "norm_model = cobra.io.read_sbml_model('models/iML1515R.xml')\n",
    "#growth = pd.DataFrame()\n",
    "for substrate in substrates:\n",
    "    with ec_model as growth_model: \n",
    "        growth_model.reactions.get_by_id('EX_glc__D_e_reverse').bounds =(0.0, 0.0) \n",
    "        growth_model.reactions.get_by_id(substrate).bounds = (-10, 0.0)\n",
    "        try:\n",
    "            pfba_solution = cobra.flux_analysis.pfba(growth_model)\n",
    "            growth_exp.loc[substrate, 'ECMpy_flux'] = pfba_solution.fluxes['BIOMASS_Ec_iML1515_core_75p37M']\n",
    "        except cobra.exceptions.Infeasible as e:\n",
    "            print(f'Substrate {substrate} is infeasible  in ec model')\n",
    "            pass\n",
    "        #growth_exp.loc[substrate, 'sub_flux'] = pfba_solution.fluxes[substrate]\n",
    "        \n",
    "for substrate in substrates:\n",
    "    with norm_model as growth_model: \n",
    "        growth_model.reactions.get_by_id('EX_glc__D_e').bounds =(0.0, 0.0) \n",
    "        growth_model.reactions.get_by_id(substrate).bounds = (-10, 0.0)\n",
    "        pfba_solution = cobra.flux_analysis.pfba(growth_model)\n",
    "        growth_exp.loc[substrate, 'iML1515_flux'] = pfba_solution.fluxes['BIOMASS_Ec_iML1515_core_75p37M']\n",
    "        #growth_exp.loc[substrate, 'sub_flux'] = pfba_solution.fluxes[substrate]      "
   ]
  },
  {
   "cell_type": "code",
   "execution_count": null,
   "id": "5f9fa21e-3035-44a1-ae24-811b0f51b566",
   "metadata": {},
   "outputs": [],
   "source": [
    "fig = biopathopt.plots.predicted_v_sim(\n",
    "    df = growth_exp,\n",
    "    measured_col='EXP',\n",
    "    sim_col='iML1515_flux',\n",
    "    name_col='substrate',\n",
    "    title='Original Model Simulated vs Measured'\n",
    ")\n",
    "pio.show(fig)"
   ]
  },
  {
   "cell_type": "code",
   "execution_count": null,
   "id": "26fa96b3-1116-4738-9245-ed933ce1cc11",
   "metadata": {},
   "outputs": [],
   "source": [
    "fig = biopathopt.plots.predicted_v_sim(\n",
    "    df = growth_exp,\n",
    "    measured_col='EXP',\n",
    "    sim_col='ECMpy_flux',\n",
    "    name_col='substrate',\n",
    "    title='Enzyme Contrained Model Simulated vs Measured'\n",
    ")\n",
    "pio.show(fig)"
   ]
  },
  {
   "cell_type": "code",
   "execution_count": null,
   "id": "d1d84fb8-5850-4017-b6cd-8ee531c8838d",
   "metadata": {},
   "outputs": [],
   "source": [
    "a = pd.DataFrame(abs(growth_exp[\"EXP\"]-growth_exp[\"iML1515_flux\"])/growth_exp[\"EXP\"], columns=['Estimated Error'])\n",
    "a['type'] = 'Original Model'\n",
    "b = pd.DataFrame(abs(growth_exp[\"EXP\"]-growth_exp[\"ECMpy_flux\"])/growth_exp[\"EXP\"], columns=['Estimated Error'])\n",
    "b['type'] = 'Enzyme Contrained Model'\n",
    "df = pd.concat([a,b])\n",
    "fig = px.box(df, x='type', y='Estimated Error', width=800, height=500)\n",
    "pio.show(fig)"
   ]
  },
  {
   "cell_type": "code",
   "execution_count": null,
   "id": "ef7c0265-ef94-4da9-9b8c-30442226d084",
   "metadata": {},
   "outputs": [],
   "source": []
  }
 ],
 "metadata": {
  "kernelspec": {
   "display_name": "Python 3 (ipykernel)",
   "language": "python",
   "name": "python3"
  },
  "language_info": {
   "codemirror_mode": {
    "name": "ipython",
    "version": 3
   },
   "file_extension": ".py",
   "mimetype": "text/x-python",
   "name": "python",
   "nbconvert_exporter": "python",
   "pygments_lexer": "ipython3",
   "version": "3.10.18"
  }
 },
 "nbformat": 4,
 "nbformat_minor": 5
}
