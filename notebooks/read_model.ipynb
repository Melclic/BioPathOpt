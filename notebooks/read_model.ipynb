{
 "cells": [
  {
   "cell_type": "code",
   "execution_count": null,
   "id": "c1343aa5-9927-4ff7-a364-cd081a8df2e6",
   "metadata": {},
   "outputs": [],
   "source": [
    "import biopathopt"
   ]
  },
  {
   "cell_type": "markdown",
   "id": "49de1406-5010-492f-9e4f-aeac038e415c",
   "metadata": {},
   "source": [
    "## Reading a model\n",
    "\n",
    "This package enables you to curate and enrich a model automatically. For example just read a default model here and the package will automatically enrich the annotations for metabolites and reactions"
   ]
  },
  {
   "cell_type": "code",
   "execution_count": null,
   "id": "cf070add-a558-4d12-bd17-ed470c753bb3",
   "metadata": {
    "scrolled": true
   },
   "outputs": [],
   "source": [
    "biopathopt_model = biopathopt.ModelBuilder(\n",
    "    path_to_model='models/iML1515R.xml', \n",
    "    use_progressbar=True,\n",
    ")"
   ]
  },
  {
   "cell_type": "code",
   "execution_count": null,
   "id": "7ce20aa2-65f5-4a0d-83e5-db5ca5520a8f",
   "metadata": {},
   "outputs": [],
   "source": [
    "#save the model as a compressed model\n",
    "biopathopt_model.save_model('models/iML1515R_parsed.json.gzip')"
   ]
  }
 ],
 "metadata": {
  "kernelspec": {
   "display_name": "Python 3 (ipykernel)",
   "language": "python",
   "name": "python3"
  },
  "language_info": {
   "codemirror_mode": {
    "name": "ipython",
    "version": 3
   },
   "file_extension": ".py",
   "mimetype": "text/x-python",
   "name": "python",
   "nbconvert_exporter": "python",
   "pygments_lexer": "ipython3",
   "version": "3.10.18"
  }
 },
 "nbformat": 4,
 "nbformat_minor": 5
}
